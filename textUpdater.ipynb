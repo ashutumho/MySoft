{
 "cells": [
  {
   "cell_type": "code",
   "execution_count": 1,
   "metadata": {
    "collapsed": true
   },
   "outputs": [],
   "source": [
    "import os\n",
    "import time\n",
    "import random\n",
    "from datetime import datetime"
   ]
  },
  {
   "cell_type": "code",
   "execution_count": 2,
   "metadata": {
    "collapsed": false
   },
   "outputs": [],
   "source": [
    "cwd = os.getcwd()\n",
    "# if sample data file dosen't exist\n",
    "fPath = cwd+\"/sampleData.txt\"\n",
    "if not os.path.isfile(fPath):\n",
    "    f = open(fPath,\"w+\")\n",
    "    f.close()\n",
    "   "
   ]
  },
  {
   "cell_type": "code",
   "execution_count": 3,
   "metadata": {
    "collapsed": false
   },
   "outputs": [],
   "source": [
    "open(fPath,\"w\").close()\n",
    "\n",
    "random.seed(1)\n",
    "for ii in range(100):\n",
    "    f = open(fPath,\"a+\")\n",
    "    time.sleep(1)\n",
    "    now = datetime.now()\n",
    "#     current_time = now.strftime(\"%y-%m-%d %H:%M:%S\")\n",
    "#     print(current_time)\n",
    "    strData = str(ii+1) + \",\"+ str(round(random.uniform(-10,10),2))+\",\"+ str(round(random.uniform(-10,10),2))+\",\"+ str(round(random.uniform(0,10),2))+\"\\n\"\n",
    "    f.write(strData)\n",
    "    f.close()"
   ]
  },
  {
   "cell_type": "code",
   "execution_count": 4,
   "metadata": {
    "collapsed": false
   },
   "outputs": [
    {
     "name": "stdout",
     "output_type": "stream",
     "text": [
      "02:15:15\n"
     ]
    }
   ],
   "source": [
    "now = datetime.now()\n",
    "current_time = now.strftime(\"%H:%M:%S\")\n",
    "print(current_time)"
   ]
  },
  {
   "cell_type": "code",
   "execution_count": null,
   "metadata": {
    "collapsed": true
   },
   "outputs": [],
   "source": []
  }
 ],
 "metadata": {
  "kernelspec": {
   "display_name": "Python 3",
   "language": "python",
   "name": "python3"
  },
  "language_info": {
   "codemirror_mode": {
    "name": "ipython",
    "version": 3
   },
   "file_extension": ".py",
   "mimetype": "text/x-python",
   "name": "python",
   "nbconvert_exporter": "python",
   "pygments_lexer": "ipython3",
   "version": "3.6.0"
  }
 },
 "nbformat": 4,
 "nbformat_minor": 2
}
