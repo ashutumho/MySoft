{
 "cells": [
  {
   "cell_type": "code",
   "execution_count": 21,
   "metadata": {
    "collapsed": false
   },
   "outputs": [],
   "source": [
    "import matplotlib\n",
    "matplotlib.use(\"TkAgg\") #backend\n",
    "from matplotlib.backends.backend_tkagg import FigureCanvasTkAgg,NavigationToolbar2TkAgg\n",
    "from matplotlib.figure import Figure"
   ]
  },
  {
   "cell_type": "code",
   "execution_count": 2,
   "metadata": {
    "collapsed": true
   },
   "outputs": [],
   "source": [
    "import tkinter as tk\n",
    "from tkinter import ttk #for good looking buttons"
   ]
  },
  {
   "cell_type": "code",
   "execution_count": 3,
   "metadata": {
    "collapsed": true
   },
   "outputs": [],
   "source": [
    "LARGE_FONT= (\"Verdana\",12)"
   ]
  },
  {
   "cell_type": "code",
   "execution_count": 4,
   "metadata": {
    "collapsed": false
   },
   "outputs": [],
   "source": [
    "class seaofBTCapp(tk.Tk): # inherit the attributes of another class \n",
    "    \n",
    "    def __init__(self, *args,**kwargs): \n",
    "        # initialize with your class\n",
    "        # *args- short form of arguments, you can pass any number of variables\n",
    "        # **kwargs- keyword arguments, passing through dictionaries \n",
    "        \n",
    "        tk.Tk.__init__(self, *args, **kwargs)\n",
    "        \n",
    "#         tk.Tk.iconbitmap(self,default=\"ball.xbm\")\n",
    "        tk.Tk.wm_title(self,\"Sea of BTC client\")\n",
    "        container = tk.Frame(self)\n",
    "        # contain everything of our tkinter app ,or edge of window\n",
    "        container.pack(side=\"top\", fill=\"both\", expand= True)\n",
    "        # pack and grid are two option to arrange\n",
    "        \n",
    "        container.grid_rowconfigure(0, weight=1)\n",
    "        container.grid_columnconfigure(0, weight=1)\n",
    "        \n",
    "        self.frames ={}\n",
    "        \n",
    "        for F in (StartPage,PageOne,PageTwo,PageThree):\n",
    "\n",
    "            frame = F(container,self)\n",
    "\n",
    "            self.frames[F] = frame\n",
    "\n",
    "            frame.grid(row=0,column=0,sticky=\"nsew\")\n",
    "        \n",
    "        self.show_frame(StartPage)\n",
    "        \n",
    "    def show_frame(self,cont):\n",
    "        \n",
    "        frame = self.frames[cont]\n",
    "        frame.tkraise()"
   ]
  },
  {
   "cell_type": "code",
   "execution_count": 5,
   "metadata": {
    "collapsed": false
   },
   "outputs": [],
   "source": [
    "class StartPage(tk.Frame):\n",
    "    def __init__(self,parent,controller):\n",
    "        tk.Frame.__init__(self,parent)\n",
    "        label = tk.Label(self, text=\"Start Page\", font= LARGE_FONT)\n",
    "        label.pack(pady=10,padx=10)\n",
    "        \n",
    "        button1 = ttk.Button(self, text=\"Visit Page 1\",\n",
    "                           command=lambda: controller.show_frame(PageOne))\n",
    "        button1.pack()\n",
    "        \n",
    "        button2 = ttk.Button(self, text=\"Visit Page 2\",\n",
    "                           command=lambda: controller.show_frame(PageTwo))\n",
    "        button2.pack()\n",
    "        \n",
    "        button3 = ttk.Button(self, text=\"Graph Page\",\n",
    "                           command=lambda: controller.show_frame(PageThree))\n",
    "        button3.pack()"
   ]
  },
  {
   "cell_type": "code",
   "execution_count": 6,
   "metadata": {
    "collapsed": true
   },
   "outputs": [],
   "source": [
    "class PageOne(tk.Frame):\n",
    "    def __init__(self,parent,controller):\n",
    "        tk.Frame.__init__(self,parent)\n",
    "        label = tk.Label(self, text=\"Page One\", font= LARGE_FONT)\n",
    "        label.pack(pady=10,padx=10)\n",
    "        \n",
    "        button1 = ttk.Button(self, text=\"Back to home\",\n",
    "                           command=lambda: controller.show_frame(StartPage))\n",
    "        button1.pack()\n",
    "        \n",
    "        button2 = ttk.Button(self, text=\"Page two\",\n",
    "                   command=lambda: controller.show_frame(PageTwo))\n",
    "        button2.pack()"
   ]
  },
  {
   "cell_type": "code",
   "execution_count": 7,
   "metadata": {
    "collapsed": true
   },
   "outputs": [],
   "source": [
    "class PageTwo(tk.Frame):\n",
    "    def __init__(self,parent,controller):\n",
    "        tk.Frame.__init__(self,parent)\n",
    "        label = tk.Label(self, text=\"Page Two\", font= LARGE_FONT)\n",
    "        label.pack(pady=10,padx=10)\n",
    "        \n",
    "        button1 = ttk.Button(self, text=\"Back to home\",\n",
    "                           command=lambda: controller.show_frame(StartPage))\n",
    "        button1.pack()\n",
    "        \n",
    "        button2 = ttk.Button(self, text=\"Page One\",\n",
    "                   command=lambda: controller.show_frame(PageOne))\n",
    "        button2.pack()"
   ]
  },
  {
   "cell_type": "code",
   "execution_count": 24,
   "metadata": {
    "collapsed": true
   },
   "outputs": [],
   "source": [
    "class PageThree(tk.Frame):\n",
    "    def __init__(self,parent,controller):\n",
    "        tk.Frame.__init__(self,parent)\n",
    "        label = tk.Label(self, text=\"Graph Page\", font= LARGE_FONT)\n",
    "        label.pack(pady=10,padx=10)\n",
    "        \n",
    "        button1 = ttk.Button(self, text=\"Back to home\",\n",
    "                           command=lambda: controller.show_frame(StartPage))\n",
    "        button1.pack()\n",
    "        \n",
    "        f = Figure(figsize=(5,5),dpi=100)\n",
    "        a = f.add_subplot(111)\n",
    "        a.plot([1,2,3,4,5,6,7,8],[3,4,2,4,-3,9,1,0])\n",
    "        \n",
    "        canvas = FigureCanvasTkAgg(f,self)\n",
    "        canvas.show()\n",
    "        canvas.get_tk_widget().pack(side=tk.TOP, fill=tk.BOTH, expand= True)\n",
    "        \n",
    "        tollbar = NavigationToolbar2TkAgg(canvas,self)\n",
    "        tollbar.update()\n",
    "        canvas._tkcanvas.pack(side=tk.TOP, fill=tk.BOTH, expand= True)"
   ]
  },
  {
   "cell_type": "code",
   "execution_count": 26,
   "metadata": {
    "collapsed": false
   },
   "outputs": [],
   "source": [
    "app = seaofBTCapp()\n",
    "app.mainloop()"
   ]
  },
  {
   "cell_type": "code",
   "execution_count": null,
   "metadata": {
    "collapsed": true
   },
   "outputs": [],
   "source": []
  }
 ],
 "metadata": {
  "kernelspec": {
   "display_name": "Python 3",
   "language": "python",
   "name": "python3"
  },
  "language_info": {
   "codemirror_mode": {
    "name": "ipython",
    "version": 3
   },
   "file_extension": ".py",
   "mimetype": "text/x-python",
   "name": "python",
   "nbconvert_exporter": "python",
   "pygments_lexer": "ipython3",
   "version": "3.6.0"
  }
 },
 "nbformat": 4,
 "nbformat_minor": 2
}
