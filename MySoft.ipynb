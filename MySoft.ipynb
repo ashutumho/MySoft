{
 "cells": [
  {
   "cell_type": "code",
   "execution_count": 1,
   "metadata": {
    "collapsed": true
   },
   "outputs": [],
   "source": [
    "import tkinter as tk"
   ]
  },
  {
   "cell_type": "code",
   "execution_count": 2,
   "metadata": {
    "collapsed": true
   },
   "outputs": [],
   "source": [
    "LARGE_FONT= (\"Verdana\",12)"
   ]
  },
  {
   "cell_type": "code",
   "execution_count": 14,
   "metadata": {
    "collapsed": false
   },
   "outputs": [],
   "source": [
    "class seaofBTCapp(tk.Tk): # inherit the attributes of another class \n",
    "    \n",
    "    def __init__(self, *args,**kwargs): \n",
    "        # initialize with your class\n",
    "        # *args- short form of arguments, you can pass any number of variables\n",
    "        # **kwargs- keyword arguments, passing through dictionaries \n",
    "        \n",
    "        tk.Tk.__init__(self, *args, **kwargs)\n",
    "\n",
    "        container = tk.Frame(self)\n",
    "        # contain everything of our tkinter app ,or edge of window\n",
    "        container.pack(side=\"top\", fill=\"both\", expand= True)\n",
    "        # pack and grid are two option to arrange\n",
    "        \n",
    "        container.grid_rowconfigure(0, weight=1)\n",
    "        container.grid_columnconfigure(0, weight=1)\n",
    "        \n",
    "        self.frames ={}\n",
    "        \n",
    "        for F in (StartPage,PageOne,PageTwo):\n",
    "\n",
    "            frame = F(container,self)\n",
    "\n",
    "            self.frames[F] = frame\n",
    "\n",
    "            frame.grid(row=0,column=0,sticky=\"nsew\")\n",
    "        \n",
    "        self.show_frame(StartPage)\n",
    "        \n",
    "    def show_frame(self,cont):\n",
    "        \n",
    "        frame = self.frames[cont]\n",
    "        frame.tkraise()"
   ]
  },
  {
   "cell_type": "code",
   "execution_count": 23,
   "metadata": {
    "collapsed": false
   },
   "outputs": [],
   "source": [
    "class StartPage(tk.Frame):\n",
    "    def __init__(self,parent,controller):\n",
    "        tk.Frame.__init__(self,parent)\n",
    "        label = tk.Label(self, text=\"Start Page\", font= LARGE_FONT)\n",
    "        label.pack(pady=10,padx=10)\n",
    "        \n",
    "        button1 = tk.Button(self, text=\"Visit Page 1\",\n",
    "                           command=lambda: controller.show_frame(PageOne))\n",
    "        button1.pack()\n",
    "        \n",
    "        button2 = tk.Button(self, text=\"Visit Page 2\",\n",
    "                           command=lambda: controller.show_frame(PageTwo))\n",
    "        button2.pack()"
   ]
  },
  {
   "cell_type": "code",
   "execution_count": 24,
   "metadata": {
    "collapsed": true
   },
   "outputs": [],
   "source": [
    "class PageOne(tk.Frame):\n",
    "    def __init__(self,parent,controller):\n",
    "        tk.Frame.__init__(self,parent)\n",
    "        label = tk.Label(self, text=\"Page One\", font= LARGE_FONT)\n",
    "        label.pack(pady=10,padx=10)\n",
    "        \n",
    "        button1 = tk.Button(self, text=\"Back to home\",\n",
    "                           command=lambda: controller.show_frame(StartPage))\n",
    "        button1.pack()\n",
    "        \n",
    "        button2 = tk.Button(self, text=\"Page two\",\n",
    "                   command=lambda: controller.show_frame(PageTwo))\n",
    "        button2.pack()"
   ]
  },
  {
   "cell_type": "code",
   "execution_count": 25,
   "metadata": {
    "collapsed": true
   },
   "outputs": [],
   "source": [
    "class PageTwo(tk.Frame):\n",
    "    def __init__(self,parent,controller):\n",
    "        tk.Frame.__init__(self,parent)\n",
    "        label = tk.Label(self, text=\"Page Two\", font= LARGE_FONT)\n",
    "        label.pack(pady=10,padx=10)\n",
    "        \n",
    "        button1 = tk.Button(self, text=\"Back to home\",\n",
    "                           command=lambda: controller.show_frame(StartPage))\n",
    "        button1.pack()\n",
    "        \n",
    "        button2 = tk.Button(self, text=\"Page One\",\n",
    "                   command=lambda: controller.show_frame(PageOne))\n",
    "        button2.pack()"
   ]
  },
  {
   "cell_type": "code",
   "execution_count": 26,
   "metadata": {
    "collapsed": false
   },
   "outputs": [],
   "source": [
    "app = seaofBTCapp()\n",
    "app.mainloop()"
   ]
  },
  {
   "cell_type": "code",
   "execution_count": null,
   "metadata": {
    "collapsed": true
   },
   "outputs": [],
   "source": []
  }
 ],
 "metadata": {
  "kernelspec": {
   "display_name": "Python 3",
   "language": "python",
   "name": "python3"
  },
  "language_info": {
   "codemirror_mode": {
    "name": "ipython",
    "version": 3
   },
   "file_extension": ".py",
   "mimetype": "text/x-python",
   "name": "python",
   "nbconvert_exporter": "python",
   "pygments_lexer": "ipython3",
   "version": "3.6.0"
  }
 },
 "nbformat": 4,
 "nbformat_minor": 2
}
