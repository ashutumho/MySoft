{
 "cells": [
  {
   "cell_type": "code",
   "execution_count": 1,
   "metadata": {
    "collapsed": false
   },
   "outputs": [],
   "source": [
    "import matplotlib\n",
    "matplotlib.use(\"TkAgg\") #backend\n",
    "from matplotlib.backends.backend_tkagg import FigureCanvasTkAgg,NavigationToolbar2TkAgg\n",
    "from matplotlib.figure import Figure\n",
    "import matplotlib.animation as animation\n",
    "from matplotlib import style\n",
    "from matplotlib import pyplot as plt"
   ]
  },
  {
   "cell_type": "code",
   "execution_count": 2,
   "metadata": {
    "collapsed": true
   },
   "outputs": [],
   "source": [
    "import tkinter as tk\n",
    "from tkinter import ttk #for good looking buttons"
   ]
  },
  {
   "cell_type": "code",
   "execution_count": 3,
   "metadata": {
    "collapsed": true
   },
   "outputs": [],
   "source": [
    "import urllib\n",
    "import json\n",
    "import pandas as pd\n",
    "import numpy as np"
   ]
  },
  {
   "cell_type": "code",
   "execution_count": 4,
   "metadata": {
    "collapsed": true
   },
   "outputs": [],
   "source": [
    "LARGE_FONT= (\"Verdana\",12)\n",
    "NORM_FONT= (\"Verdana\",10)\n",
    "SMALL_FONT= (\"Verdana\",8)\n",
    "style.use(\"ggplot\")"
   ]
  },
  {
   "cell_type": "code",
   "execution_count": 5,
   "metadata": {
    "collapsed": true
   },
   "outputs": [],
   "source": [
    "# f = Figure(figsize=(10,4),dpi=100)\n",
    "f = Figure()\n",
    "a = f.add_subplot(111)\n",
    "# default values\n",
    "exchange = \"BTC-e\" # starting exchange\n",
    "DatCounter = 9000 # when we are updating any thing\n",
    "programName = \"btce\"\n"
   ]
  },
  {
   "cell_type": "code",
   "execution_count": 6,
   "metadata": {
    "collapsed": true
   },
   "outputs": [],
   "source": [
    "def changeExcahnge(toWhat,pn):\n",
    "    global exchange\n",
    "    global DatCounter\n",
    "    global programName\n",
    "    toWhat = exchange\n",
    "    programName = pn\n",
    "    DatCounter = 9000 # request any update then it must occure immediately"
   ]
  },
  {
   "cell_type": "code",
   "execution_count": 7,
   "metadata": {
    "collapsed": false
   },
   "outputs": [],
   "source": [
    "def popupmsg(msg):\n",
    "    popup = tk.Tk()\n",
    "    #popup.wm_title(\"!\")\n",
    "    label = ttk.Label(popup,text=msg,font=NORM_FONT)\n",
    "    label.pack(side=\"top\",fill=\"x\",pady=10)\n",
    "    B1 = ttk.Button(popup, text=\"Okay\",command=popup.destroy)\n",
    "    B1.pack()\n",
    "    popup.mainloop()"
   ]
  },
  {
   "cell_type": "code",
   "execution_count": 8,
   "metadata": {
    "collapsed": false
   },
   "outputs": [],
   "source": [
    "def animate(i):\n",
    "    pullData = open(\"sampleData.txt\",\"r\").read()\n",
    "    dataList = pullData.split('\\n')\n",
    "    xList = []\n",
    "    yList = []\n",
    "    zList = []\n",
    "    for eachLine in dataList:\n",
    "        if len(eachLine)>1:\n",
    "            x,y,z = eachLine.split(',')\n",
    "            xList.append(int(x))\n",
    "            yList.append(y)\n",
    "            zList.append(z)\n",
    "    a.clear()\n",
    "    a.plot(xList,yList,\"#00A3E0\",label=\"buys\")\n",
    "    a.plot(xList,zList,\"#183A54\",label=\"sells\")\n",
    "    a.legend(bbox_to_anchor=(0,1.02,1,.102),loc=3,\n",
    "            ncol=2,borderaxespad=0)\n",
    "    title = \"BTC-e BTCUSD Price\"\n",
    "    a.set_title(title)"
   ]
  },
  {
   "cell_type": "code",
   "execution_count": 22,
   "metadata": {
    "collapsed": false
   },
   "outputs": [],
   "source": [
    "class seaofBTCapp(tk.Tk): # inherit the attributes of another class \n",
    "    \n",
    "    def __init__(self, *args,**kwargs): \n",
    "        # initialize with your class\n",
    "        # *args- short form of arguments, you can pass any number of variables\n",
    "        # **kwargs- keyword arguments, passing through dictionaries \n",
    "        \n",
    "        tk.Tk.__init__(self, *args, **kwargs)\n",
    "        \n",
    "#         tk.Tk.iconbitmap(self,default=\"ball.xbm\")\n",
    "        tk.Tk.wm_title(self,\"Sea of BTC client\")\n",
    "        container = tk.Frame(self)\n",
    "        # contain everything of our tkinter app ,or edge of window\n",
    "        container.pack(side=\"top\", fill=\"both\", expand= True)\n",
    "        # pack and grid are two option to arrange\n",
    "        \n",
    "        container.grid_rowconfigure(0, weight=1)\n",
    "        container.grid_columnconfigure(0, weight=1)\n",
    "        # defining the menu bar\n",
    "        menubar = tk.Menu(container)\n",
    "        \n",
    "        #defining the File menu bar\n",
    "        filemenu = tk.Menu(menubar,tearoff=0)\n",
    "        filemenu.add_command(label=\"Save settings\", command=lambda:popupmsg(\"Not supported just yet!!\"))\n",
    "        filemenu.add_separator()\n",
    "        filemenu.add_command(label=\"Exit\",command=quit)\n",
    "        menubar.add_cascade(label=\"File\",menu=filemenu)\n",
    "        \n",
    "        # defining the Exchange menu bar\n",
    "        exchangeChoice = tk.Menu(menubar,tearoff=1)\n",
    "        exchangeChoice.add_command(label=\"BTC-e\",\n",
    "                                  command=lambda:changeExcahnge(\"BTC-e\",\"btce\"))#(displayName,programName)\n",
    "        exchangeChoice.add_command(label=\"Bitfinex\",\n",
    "                                  command=lambda:changeExcahnge(\"Bitfinex\",\"bitfinex\"))\n",
    "        exchangeChoice.add_command(label=\"Bitstamp\",\n",
    "                                  command=lambda:changeExcahnge(\"Bitstamp\",\"bitstamp\"))\n",
    "        exchangeChoice.add_command(label=\"Huobi\",\n",
    "                                  command=lambda:changeExcahnge(\"Huobi\",\"huobi\"))\n",
    "        menubar.add_cascade(label=\"Exchange\",menu=exchangeChoice)\n",
    "        \n",
    "        # defining the consider time menu bar\n",
    "        dataTF = tk.Menu(menubar,tearoff=1)\n",
    "        dataTF.add_command(label=\"Tick\",\n",
    "                          command=lambda:changeTimeFrame(\"tick\"))\n",
    "        dataTF.add_command(label=\"1 Day\",\n",
    "                          command=lambda:changeTimeFrame(\"1d\"))\n",
    "        dataTF.add_command(label=\"3 Day\",\n",
    "                          command=lambda:changeTimeFrame(\"3d\"))\n",
    "        dataTF.add_command(label=\"1 Week\",\n",
    "                          command=lambda:changeTimeFrame(\"7d\"))\n",
    "        menubar.add_cascade(label=\"Data Time Frame\",menu=dataTF)\n",
    "        \n",
    "        # defining the open high low close interval as OHLCI menu bar\n",
    "        OHLCI = tk.Menu(menubar,tearoff=1)\n",
    "        OHLCI.add_command(label=\"Tick\",\n",
    "                          command=lambda:changeTimeFrame(\"tick\"))\n",
    "        OHLCI.add_command(label=\"1 minute\",\n",
    "                          command=lambda:changeSampleSize(\"1Min\",0.0005))\n",
    "        OHLCI.add_command(label=\"5 minute\",\n",
    "                          command=lambda:changeSampleSize(\"5Min\",0.003))\n",
    "        OHLCI.add_command(label=\"15 minute\",\n",
    "                          command=lambda:changeSampleSize(\"15Min\",0.008))\n",
    "        OHLCI.add_command(label=\"30 minute\",\n",
    "                          command=lambda:changeSampleSize(\"30Min\",0.016))\n",
    "        OHLCI.add_command(label=\"1 hour\",\n",
    "                          command=lambda:changeSampleSize(\"1H\",0.032))\n",
    "        OHLCI.add_command(label=\"3 hour\",\n",
    "                          command=lambda:changeSampleSize(\"3H\",0.096))\n",
    "        menubar.add_cascade(label=\"OHLC Interval\",menu=OHLCI)\n",
    "        \n",
    "        tk.Tk.config(self,menu=menubar)\n",
    "        \n",
    "        self.frames ={}\n",
    "        \n",
    "        for F in (StartPage,BTCe_Page):#(StartPage,PageOne,PageTwo,PageThree):\n",
    "\n",
    "            frame = F(container,self)\n",
    "\n",
    "            self.frames[F] = frame\n",
    "\n",
    "            frame.grid(row=0,column=0,sticky=\"nsew\")\n",
    "        \n",
    "        self.show_frame(StartPage)\n",
    "        \n",
    "    def show_frame(self,cont):\n",
    "        \n",
    "        frame = self.frames[cont]\n",
    "        frame.tkraise()"
   ]
  },
  {
   "cell_type": "code",
   "execution_count": 20,
   "metadata": {
    "collapsed": false
   },
   "outputs": [],
   "source": [
    "class StartPage(tk.Frame):\n",
    "    def __init__(self,parent,controller):\n",
    "        tk.Frame.__init__(self,parent)\n",
    "        label = tk.Label(self, text=(\"\"\"ALPHA Bitcoin trading application\n",
    "        use at your own risk. There is no \n",
    "        promise of WARRANTY\"\"\"), font= LARGE_FONT)\n",
    "        label.pack(pady=10,padx=10)\n",
    "        \n",
    "        button1 = ttk.Button(self, text=\"Agree\",\n",
    "                           command=lambda: controller.show_frame(BTCe_Page))\n",
    "        button1.pack()\n",
    "        \n",
    "        button2 = ttk.Button(self, text=\"Disagree\",\n",
    "                           command=quit)\n",
    "        button2.pack()\n",
    "        "
   ]
  },
  {
   "cell_type": "code",
   "execution_count": 11,
   "metadata": {
    "collapsed": true
   },
   "outputs": [],
   "source": [
    "class PageOne(tk.Frame):\n",
    "    def __init__(self,parent,controller):\n",
    "        tk.Frame.__init__(self,parent)\n",
    "        label = tk.Label(self, text=\"Page One\", font= LARGE_FONT)\n",
    "        label.pack(pady=10,padx=10)\n",
    "        \n",
    "        button1 = ttk.Button(self, text=\"Back to home\",\n",
    "                           command=lambda: controller.show_frame(StartPage))\n",
    "        button1.pack()\n",
    "        "
   ]
  },
  {
   "cell_type": "code",
   "execution_count": 12,
   "metadata": {
    "collapsed": false
   },
   "outputs": [],
   "source": [
    "class BTCe_Page(tk.Frame):\n",
    "    def __init__(self,parent,controller):\n",
    "        tk.Frame.__init__(self,parent)\n",
    "        label = tk.Label(self, text=\"Graph Page\", font= LARGE_FONT)\n",
    "        label.pack(pady=10,padx=10)\n",
    "        \n",
    "        button1 = ttk.Button(self, text=\"Back to home\",\n",
    "                           command=lambda: controller.show_frame(StartPage))\n",
    "        button1.pack()\n",
    "        \n",
    "        \n",
    "        canvas = FigureCanvasTkAgg(f,self)\n",
    "        canvas.show()\n",
    "        canvas.get_tk_widget().pack(side=tk.TOP, fill=tk.BOTH, expand= True)\n",
    "        \n",
    "        tollbar = NavigationToolbar2TkAgg(canvas,self)\n",
    "        tollbar.update()\n",
    "        canvas._tkcanvas.pack(side=tk.TOP, fill=tk.BOTH, expand= True)"
   ]
  },
  {
   "cell_type": "code",
   "execution_count": 16,
   "metadata": {
    "collapsed": false
   },
   "outputs": [],
   "source": [
    "app = seaofBTCapp()\n",
    "app.geometry(\"1280x720\")\n",
    "ani = animation.FuncAnimation(f,animate,interval=1000)\n",
    "# app.mainloop()"
   ]
  },
  {
   "cell_type": "code",
   "execution_count": 14,
   "metadata": {
    "collapsed": false
   },
   "outputs": [],
   "source": [
    "# app.mainloop()"
   ]
  },
  {
   "cell_type": "code",
   "execution_count": 18,
   "metadata": {
    "collapsed": true
   },
   "outputs": [],
   "source": []
  },
  {
   "cell_type": "code",
   "execution_count": null,
   "metadata": {
    "collapsed": true
   },
   "outputs": [],
   "source": []
  }
 ],
 "metadata": {
  "kernelspec": {
   "display_name": "Python 3",
   "language": "python",
   "name": "python3"
  },
  "language_info": {
   "codemirror_mode": {
    "name": "ipython",
    "version": 3
   },
   "file_extension": ".py",
   "mimetype": "text/x-python",
   "name": "python",
   "nbconvert_exporter": "python",
   "pygments_lexer": "ipython3",
   "version": "3.6.0"
  }
 },
 "nbformat": 4,
 "nbformat_minor": 2
}
